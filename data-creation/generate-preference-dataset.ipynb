{
 "cells": [
  {
   "cell_type": "code",
   "execution_count": 8,
   "metadata": {},
   "outputs": [],
   "source": [
    "from datasets import load_dataset\n",
    "import pandas as pd\n",
    "import json\n",
    "from tqdm import tqdm\n",
    "tqdm.pandas()\n",
    "import os"
   ]
  },
  {
   "cell_type": "code",
   "execution_count": 9,
   "metadata": {},
   "outputs": [],
   "source": [
    "conversations_dir = \"conversations\"\n",
    "# load all json files in the conversations directory\n",
    "conversations = [json.load(open(os.path.join(conversations_dir, f))) for f in os.listdir(conversations_dir) if f.endswith('.json')]\n"
   ]
  },
  {
   "cell_type": "code",
   "execution_count": 11,
   "metadata": {},
   "outputs": [],
   "source": [
    "# Only take the user messages\n",
    "user_conversations_data = []\n",
    "for conversation in conversations:\n",
    "    conversation = conversation[1:]\n",
    "    conversation = [message['content'] for message in conversation if message['role'] == 'user']\n",
    "    user_conversations_data.append(conversation)\n",
    "\n"
   ]
  },
  {
   "cell_type": "code",
   "execution_count": 16,
   "metadata": {},
   "outputs": [
    {
     "data": {
      "text/plain": [
       "[\"Here are some top news headlines as of today:\\n\\n    Phil Donahue, influential TV talk show host, dead at 88 - ABC News\\nBlinken says Israel accepts Gaza proposal, urges Hamas to do same - Reuters\\nTrump insults Harris' intelligence, discusses election outcome, release of medical records - CBS News\\n\\n    Please answer the question below: \\n    What's new news?\\n    \",\n",
       " 'Who are you?',\n",
       " \"We'll see you on the other side.\",\n",
       " \"Tell me what you're doing.\",\n",
       " 'Using host libthread_db library \"/lib/aarch64-linux-gnu/libthread_db.so.1\". 0x00007ffee60e8764 in __GI___wait4',\n",
       " \"Current weather data:\\n\\n        Location: New York, United States\\n        T: 16.13 C\\n        Humidity: 76%\\n        Rain Prob: 0%\\n        Cloud Cover: 4%\\n\\n        Question:\\n        What's the weather outside?\\n\\n        Answer:\\n        \"]"
      ]
     },
     "execution_count": 16,
     "metadata": {},
     "output_type": "execute_result"
    }
   ],
   "source": [
    "user_conversations_data[2]"
   ]
  },
  {
   "cell_type": "markdown",
   "metadata": {},
   "source": [
    "This is an example conversation, with the correct format. \n",
    "\n",
    "From here, next can follow the same process as generate-chat-dataset.ipynb to create a dataset of preference comparisons. In this case, we'll create a dataset with the same user queries, the more advanced system prompt, and using a larger model.\n",
    "\n",
    "Let's take a look at what that \"accepted\" conversation looks like. "
   ]
  },
  {
   "cell_type": "code",
   "execution_count": 17,
   "metadata": {},
   "outputs": [],
   "source": [
    "import json \n",
    "import os\n",
    "from dotenv import load_dotenv\n",
    "load_dotenv()\n",
    "\n",
    "from together import Together\n",
    "from groq import Groq\n",
    "\n",
    "from tqdm import tqdm\n",
    "from time import sleep\n",
    "from concurrent.futures import ThreadPoolExecutor, as_completed\n",
    "\n",
    "\n",
    "use_together = True\n",
    "\n",
    "if use_together:\n",
    "\n",
    "    model = 'meta-llama/Meta-Llama-3.1-8B-Instruct-Turbo'\n",
    "    client = Together(api_key=os.getenv('TOGETHER_API_KEY'))\n",
    "else:\n",
    "    model = \"llama-3.1-8b-instant\"\n",
    "    client = Groq(api_key=os.getenv('GROQ_API_KEY'))"
   ]
  },
  {
   "cell_type": "code",
   "execution_count": 18,
   "metadata": {},
   "outputs": [],
   "source": [
    "system_prompt_f = 'picard-system'\n",
    "system_prompt_path = f'prompts/{system_prompt_f}.md'\n",
    "with open(system_prompt_path, 'r') as file:\n",
    "    system_prompt = file.read()\n"
   ]
  },
  {
   "cell_type": "code",
   "execution_count": 19,
   "metadata": {},
   "outputs": [],
   "source": [
    "f = f\"{system_prompt_f}-preference-{model.replace('/', '-')}.json\""
   ]
  },
  {
   "cell_type": "code",
   "execution_count": 22,
   "metadata": {},
   "outputs": [
    {
     "name": "stderr",
     "output_type": "stream",
     "text": [
      "100%|██████████| 13/13 [00:46<00:00,  3.55s/it]\n"
     ]
    }
   ],
   "source": [
    "assistant_dataset = []\n",
    "\n",
    "if os.path.exists(f):\n",
    "    with open(f, 'r') as file:\n",
    "        assistant_dataset = json.load(file)\n",
    "        print(f'Loaded {len(assistant_dataset)} conversations from file')\n",
    "\n",
    "\n",
    "def create_conversation(prompts):\n",
    "    conversation = [{'role': 'system', 'content': system_prompt}]\n",
    "    try:\n",
    "        for prompt in prompts:\n",
    "            sleep(1)\n",
    "            conversation.append({'role': 'user', 'content': prompt})\n",
    "            response = client.chat.completions.create(\n",
    "                model=model,\n",
    "                messages=conversation,\n",
    "            )\n",
    "            conversation.append({'role': 'assistant', 'content': response.choices[0].message.content})\n",
    "        return conversation\n",
    "    except Exception as e:\n",
    "        print(e)\n",
    "        return None\n",
    "\n",
    "with ThreadPoolExecutor(max_workers=5) as executor:\n",
    "    futures = [executor.submit(create_conversation, prompts) for prompts in user_conversations_data[len(assistant_dataset):]]\n",
    "    for future in tqdm(as_completed(futures), total=len(futures)):\n",
    "        result = future.result()\n",
    "        if result:\n",
    "            assistant_dataset.append(result)\n",
    "\n",
    "        # Save to file\n",
    "        with open(f, 'w') as file:\n",
    "            json.dump(assistant_dataset, file, indent=4)"
   ]
  },
  {
   "cell_type": "code",
   "execution_count": 24,
   "metadata": {},
   "outputs": [],
   "source": [
    "# Now we have a preferred output, and the original dataset. Now we just need to \"align\" the two ;)"
   ]
  },
  {
   "cell_type": "code",
   "execution_count": 26,
   "metadata": {},
   "outputs": [],
   "source": [
    "# First, give both the preferred output the original system prompt. \n",
    "\n",
    "for conversation in assistant_dataset:\n",
    "    conversation[0]['content'] = \"You are Pi-Card, the Raspberry Pi voice assistant.\""
   ]
  },
  {
   "cell_type": "code",
   "execution_count": 34,
   "metadata": {},
   "outputs": [],
   "source": [
    "# Next, going sample by sample, find the prior conversation that matches this to set as the rejected output. \n",
    "original_conversations = [json.load(open(os.path.join(conversations_dir, f))) for f in os.listdir(conversations_dir) if f.endswith('.json')]\n",
    "for conversation in original_conversations:\n",
    "    conversation[0]['content'] = \"You are Pi-Card, the Raspberry Pi voice assistant.\"\n",
    "    conversation[0]['role'] = 'system'"
   ]
  },
  {
   "cell_type": "code",
   "execution_count": 39,
   "metadata": {},
   "outputs": [],
   "source": [
    "aligned_dataset = []\n",
    "\n",
    "for conversation in assistant_dataset:\n",
    "    for original_conversation in original_conversations:\n",
    "            # if all user messages are the same, then we have a match. \n",
    "            if len(conversation) == len(original_conversation):\n",
    "                if all(message['content'] == original_conversation[i]['content'] for i, message in enumerate(conversation) if message['role'] == 'user'):\n",
    "                    aligned_dataset.append({'preferred': conversation, 'rejected': original_conversation})\n"
   ]
  },
  {
   "cell_type": "code",
   "execution_count": 43,
   "metadata": {},
   "outputs": [
    {
     "data": {
      "text/plain": [
       "[{'role': 'system',\n",
       "  'content': 'You are Pi-Card, the Raspberry Pi voice assistant.'},\n",
       " {'role': 'user', 'content': 'Can you send a message?'},\n",
       " {'role': 'assistant',\n",
       "  'content': \"I can send messages, but I'm a voice assistant, so I don't have a traditional messaging platform. However, I can use the Raspberry Pi's speaker to play a message or send a text message to a phone number if you provide it.\"},\n",
       " {'role': 'user', 'content': 'What is where it all?'},\n",
       " {'role': 'assistant',\n",
       "  'content': 'I think you meant to ask \"Where is it all?\" Unfortunately, I don\\'t have any information about a specific \"it\" you\\'re referring to. Could you please provide more context or clarify what you\\'re asking about?'},\n",
       " {'role': 'user', 'content': '- Call me a joke.'},\n",
       " {'role': 'assistant',\n",
       "  'content': \"You want me to call you a joke? I'm not sure what that means. Are you asking me to tell you a joke?\"},\n",
       " {'role': 'user',\n",
       "  'content': \"Current weather data:\\n\\n        Location: New York, United States\\n        T: 16.63 C\\n        Humidity: 72%\\n        Rain Prob: 0%\\n        Cloud Cover: 100%\\n\\n        Question:\\n        What's the weather?\\n\\n        Answer:\\n        \"},\n",
       " {'role': 'assistant',\n",
       "  'content': \"It's currently 16.63°C with 72% humidity and 100% cloud cover in New York, with no chance of rain.\"},\n",
       " {'role': 'user', 'content': '- Yes, what does that recipe?'},\n",
       " {'role': 'assistant',\n",
       "  'content': \"I'm not aware of a recipe being mentioned. Could you please provide more context or clarify what recipe you're referring to?\"},\n",
       " {'role': 'user', 'content': 'What are the main parts of an office building?'},\n",
       " {'role': 'assistant',\n",
       "  'content': 'Typically, an office building has a lobby, reception area, offices, meeting rooms, break rooms, and restrooms.'},\n",
       " {'role': 'user', 'content': 'What is stigma?'},\n",
       " {'role': 'assistant',\n",
       "  'content': 'Stigma refers to a negative label or stereotype that can lead to social exclusion, prejudice, or discrimination against a person or group.'}]"
      ]
     },
     "execution_count": 43,
     "metadata": {},
     "output_type": "execute_result"
    }
   ],
   "source": [
    "aligned_dataset[2]['preferred']"
   ]
  },
  {
   "cell_type": "code",
   "execution_count": 45,
   "metadata": {},
   "outputs": [
    {
     "data": {
      "text/plain": [
       "[{'role': 'system',\n",
       "  'content': 'You are Pi-Card, the Raspberry Pi voice assistant.'},\n",
       " {'role': 'user', 'content': 'Can you send a message?'},\n",
       " {'role': 'assistant',\n",
       "  'content': '\"I\\'m doing great. How\\'s your day going?\"'},\n",
       " {'role': 'user', 'content': 'What is where it all?'},\n",
       " {'role': 'assistant',\n",
       "  'content': 'I\\'m Pi-Card, a voice assistant hosted on a Raspberry Pi 5. I\\'m here to help with questions and tasks, and I\\'m run by a combination of machine learning and Python code. The \"where it all\" part refers to the fact that I\\'ve been trained on a wide range of topics and can provide information on various subjects.'},\n",
       " {'role': 'user', 'content': '- Call me a joke.'},\n",
       " {'role': 'assistant',\n",
       "  'content': 'That\\'s an insulting title! However, I\\'d like to propose a more considerate one: \"Hey, where\\'s my knowledge cutoff? I\\'m a fact-checking voice assistant hosted on a Raspberry Pi 5.\"'},\n",
       " {'role': 'user',\n",
       "  'content': \"Current weather data:\\n\\n        Location: New York, United States\\n        T: 16.63 C\\n        Humidity: 72%\\n        Rain Prob: 0%\\n        Cloud Cover: 100%\\n\\n        Question:\\n        What's the weather?\\n\\n        Answer:\\n        \"},\n",
       " {'role': 'assistant',\n",
       "  'content': \"It's a *total* downpour in New York!  ☔️ You're practically drowning in clouds.  Even if you have a waterproof Raspberry Pi, you might want to reconsider that outdoor picnic... 😜  \\n\\n\\nIs there anything else I can help you with? 😊  (Like the best recipe for a rainy day soup?)\\n\"},\n",
       " {'role': 'user', 'content': '- Yes, what does that recipe?'},\n",
       " {'role': 'assistant',\n",
       "  'content': \"I'm not aware of any specific information on a *single* recipe.  However, I can suggest some general tips for cooking in a rain-inducing environment: ️\\n\\n1. **Bring the necessary water**: If possible, bring enough water to cover your ingredients and cooking utensils. This will help you avoid running out of water during the cooking process.\\n2. **Use non-perishable foods**: Focus on non-perishable foods that don't require cooking, such as canned goods, energy bars, or instant noodles.\\n3. **Prepare in layers**: If it's possible, prepare your ingredients and dishes in layers, using wet and dry items like plastic wrap, aluminum foil, and towels to maintain humidity and prevent water from accumulating.\\n4. **Stay hydrated**: Make sure to drink plenty of water throughout the cooking process to stay hydrated.\\n5. **Consider a rainproof kitchen**: If you're living in a region with high rainfall, consider investing in a rainproof kitchen or outdoor cooking equipment to ensure your culinary experience is as enjoyable (if not more so) in the pouring rain.\\n\\nI hope this helps! Let me know if you have any other questions. 📉 \"},\n",
       " {'role': 'user', 'content': 'What are the main parts of an office building?'},\n",
       " {'role': 'assistant',\n",
       "  'content': \"An **office building** typically consists of several main parts:\\n\\n1. **Main Building**: The central structure that contains the core operations, such as meeting rooms, reception areas, and storage spaces.\\n2. **Outlets**: Areas where water is collected and drained, often including the roof, exterior walls, and plumbing systems.\\n3. **Inlets**: Areas where water enters the building, typically through faucets, pipes, and drainage systems.\\n4. **Filtration System**: A system that removes impurities and debris from the water supply to ensure it's clean and safe for use.\\n5. **Treatment Plant**: A facility that treats and disinfects the water before it's distributed to the building's outlets.\\n6. **Water Main**: The main water line that supplies water to individual units, such as sinks, showers, and appliances.\\n7. **Sewer System**: A network of pipes and facilities that collect and treat waste water, often including a toilet facility and a storm sewer for heavy rainfall.\\n8. **Building Dwellings**: The rooms or spaces where employees work, typically including the office space, break room, and restrooms.\\n9. **Maintenance and Repair**: Areas responsible for maintaining\"},\n",
       " {'role': 'user', 'content': 'What is stigma?'},\n",
       " {'role': 'assistant',\n",
       "  'content': \"Stigma refers to the negative attitudes, opinions, and judgments directed towards someone based on a perceived characteristic or trait. In the context of mental health, it can refer to the social isolation, discrimination, or prejudice faced by individuals with mental illnesses.\\n\\nIn the case of the office building mentioned in the text, stigma around mental health can affect employees' willingness to seek help, leading to feelings of shame, guilt, and self-doubt. This can impact their job performance, mental well-being, and overall quality of life.\\n\\nTo combat stigma, it's essential to create a supportive environment that promotes understanding, empathy, and education. This can involve implementing policies and procedures that encourage open communication, providing access to mental health resources, and challenging negative stereotypes and assumptions about mental illness.\\n\\nIf you're an employee at an office building, it's essential to\"}]"
      ]
     },
     "execution_count": 45,
     "metadata": {},
     "output_type": "execute_result"
    }
   ],
   "source": [
    "aligned_dataset[2]['rejected']"
   ]
  },
  {
   "cell_type": "code",
   "execution_count": 47,
   "metadata": {},
   "outputs": [],
   "source": [
    "# Now save this to a json file\n",
    "f = f\"{system_prompt_f}-aligned-{model.replace('/', '-')}.json\"\n",
    "with open(f, 'w') as file:\n",
    "    json.dump(aligned_dataset, file, indent=4)"
   ]
  },
  {
   "cell_type": "code",
   "execution_count": null,
   "metadata": {},
   "outputs": [],
   "source": []
  }
 ],
 "metadata": {
  "kernelspec": {
   "display_name": "action-annotator",
   "language": "python",
   "name": "python3"
  },
  "language_info": {
   "codemirror_mode": {
    "name": "ipython",
    "version": 3
   },
   "file_extension": ".py",
   "mimetype": "text/x-python",
   "name": "python",
   "nbconvert_exporter": "python",
   "pygments_lexer": "ipython3",
   "version": "3.10.13"
  }
 },
 "nbformat": 4,
 "nbformat_minor": 2
}
